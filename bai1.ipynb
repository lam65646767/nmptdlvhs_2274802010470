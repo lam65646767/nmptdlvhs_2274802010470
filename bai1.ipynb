{
 "cells": [
  {
   "cell_type": "markdown",
   "metadata": {},
   "source": [
    "# phan1_Thống kê dữ liệu"
   ]
  },
  {
   "cell_type": "markdown",
   "metadata": {},
   "source": [
    "Hãy sắp xếp dữ liệu điểm DH1 theo thứ tự tăng dần "
   ]
  },
  {
   "cell_type": "code",
   "execution_count": 5,
   "metadata": {},
   "outputs": [
    {
     "name": "stdout",
     "output_type": "stream",
     "text": [
      "  GioiTinh  DH2  DH1 KT   KV     DT\n",
      "2      Nam  6.0  6.5  A  KV1   Nùng\n",
      "1       Nữ  8.0  7.0  B  KV2    Tày\n",
      "4      Nam  7.0  7.5  C  KV3  Mường\n",
      "0      Nam  7.5  8.5  A  KV1   Kinh\n",
      "3       Nữ  9.0  9.5  B  KV2   Kinh\n"
     ]
    }
   ],
   "source": [
    "import pandas as pd\n",
    "\n",
    "# Giả sử bạn đã có dataframe `df` chứa dữ liệu\n",
    "# Sắp xếp DH1 theo thứ tự tăng dần\n",
    "df_sorted_dh1 = df.sort_values(by=\"DH1\", ascending=True)\n",
    "print(df_sorted_dh1)\n"
   ]
  },
  {
   "cell_type": "markdown",
   "metadata": {},
   "source": []
  },
  {
   "cell_type": "markdown",
   "metadata": {},
   "source": [
    "2. Sắp xếp dữ liệu điểm DH2 tăng dần theo nhóm giới tính"
   ]
  },
  {
   "cell_type": "code",
   "execution_count": 15,
   "metadata": {},
   "outputs": [
    {
     "name": "stdout",
     "output_type": "stream",
     "text": [
      "  GioiTinh  DH2  DH1 KT   KV     DT\n",
      "0      Nam  7.5  8.5  A  KV1   Kinh\n",
      "1       Nữ  8.0  7.0  B  KV2    Tày\n",
      "2      Nam  6.0  6.5  A  KV1   Nùng\n",
      "3       Nữ  9.0  9.5  B  KV2   Kinh\n",
      "4      Nam  7.0  7.5  C  KV3  Mường\n"
     ]
    }
   ],
   "source": [
    "import pandas as pd\n",
    "\n",
    "# Tạo dữ liệu mẫu\n",
    "data = {\n",
    "    \"GioiTinh\": [\"Nam\", \"Nữ\", \"Nam\", \"Nữ\", \"Nam\"],\n",
    "    \"DH2\": [7.5, 8.0, 6.0, 9.0, 7.0],\n",
    "    \"DH1\": [8.5, 7.0, 6.5, 9.5, 7.5],\n",
    "    \"KT\": [\"A\", \"B\", \"A\", \"B\", \"C\"],\n",
    "    \"KV\": [\"KV1\", \"KV2\", \"KV1\", \"KV2\", \"KV3\"],\n",
    "    \"DT\": [\"Kinh\", \"Tày\", \"Nùng\", \"Kinh\", \"Mường\"],\n",
    "}\n",
    "\n",
    "df = pd.DataFrame(data)\n",
    "\n",
    "# Kiểm tra dữ liệu\n",
    "print(df)\n",
    "\n"
   ]
  },
  {
   "cell_type": "markdown",
   "metadata": {},
   "source": [
    "3. Hãy tạo pivot-table để thống kê các giá trị count, sum, mean, median, min, max, std, Q1, \n",
    "Q2 và Q3 của DH1 theo KT "
   ]
  },
  {
   "cell_type": "code",
   "execution_count": 7,
   "metadata": {},
   "outputs": [
    {
     "name": "stdout",
     "output_type": "stream",
     "text": [
      "    count   sum      mean  median  min  max       std     Q1    Q2     Q3\n",
      "KT                                                                       \n",
      "A       3  21.0  7.000000    6.50  6.0  8.5  1.322876  6.250  6.50  7.500\n",
      "B       3  25.0  8.333333    8.50  7.0  9.5  1.258306  7.750  8.50  9.000\n",
      "C       2  15.5  7.750000    7.75  7.5  8.0  0.353553  7.625  7.75  7.875\n"
     ]
    }
   ],
   "source": [
    "import pandas as pd\n",
    "\n",
    "# Tạo dữ liệu mẫu\n",
    "data = {\n",
    "    \"KT\": [\"A\", \"B\", \"A\", \"B\", \"C\", \"C\", \"A\", \"B\"],\n",
    "    \"DH1\": [8.5, 7.0, 6.5, 9.5, 7.5, 8.0, 6.0, 8.5],\n",
    "}\n",
    "df = pd.DataFrame(data)\n",
    "# Tính pivot table\n",
    "grouped = df.groupby(\"KT\")[\"DH1\"]\n",
    "\n",
    "pivot_kt = pd.DataFrame({\n",
    "    \"count\": grouped.count(),\n",
    "    \"sum\": grouped.sum(),\n",
    "    \"mean\": grouped.mean(),\n",
    "    \"median\": grouped.median(),\n",
    "    \"min\": grouped.min(),\n",
    "    \"max\": grouped.max(),\n",
    "    \"std\": grouped.std(),\n",
    "    \"Q1\": grouped.quantile(0.25),\n",
    "    \"Q2\": grouped.median(),\n",
    "    \"Q3\": grouped.quantile(0.75),\n",
    "})\n",
    "\n",
    "print(pivot_kt)\n",
    "\n"
   ]
  },
  {
   "cell_type": "markdown",
   "metadata": {},
   "source": [
    "4 Hãy tạo pivot-table để thống kê các giá trị count, sum, mean, median, min, max, std, Q1, \n",
    "Q2 và Q3 của DH1 theo KT và KV"
   ]
  },
  {
   "cell_type": "code",
   "execution_count": 12,
   "metadata": {},
   "outputs": [
    {
     "name": "stdout",
     "output_type": "stream",
     "text": [
      "        count   sum  mean  median  min  max       std     Q1     Q3\n",
      "KT KV                                                              \n",
      "A  KV1      1   8.5  8.50    8.50  8.5  8.5       NaN  8.500  8.500\n",
      "   KV2      1   7.0  7.00    7.00  7.0  7.0       NaN  7.000  7.000\n",
      "B  KV1      1   6.5  6.50    6.50  6.5  6.5       NaN  6.500  6.500\n",
      "   KV2      1   9.5  9.50    9.50  9.5  9.5       NaN  9.500  9.500\n",
      "C  KV3      2  15.5  7.75    7.75  7.5  8.0  0.353553  7.625  7.875\n"
     ]
    }
   ],
   "source": [
    "import pandas as pd\n",
    "# Tạo dữ liệu mẫu\n",
    "data = {\n",
    "    \"KT\": [\"A\", \"A\", \"B\", \"B\", \"C\", \"C\"],\n",
    "    \"KV\": [\"KV1\", \"KV2\", \"KV1\", \"KV2\", \"KV3\", \"KV3\"],\n",
    "    \"DH1\": [8.5, 7.0, 6.5, 9.5, 7.5, 8.0],\n",
    "}\n",
    "df = pd.DataFrame(data)\n",
    "# Tạo pivot table\n",
    "pivot_kt_kv = df.pivot_table(\n",
    "    values=\"DH1\",\n",
    "    index=[\"KT\", \"KV\"],\n",
    "    aggfunc=[\"count\", \"sum\", \"mean\", \"median\", \"min\", \"max\", \"std\", lambda x: x.quantile(0.25), lambda x: x.quantile(0.75)],\n",
    ")\n",
    "pivot_kt_kv.columns = ['count', 'sum', 'mean', 'median', 'min', 'max', 'std', 'Q1', 'Q3']\n",
    "print(pivot_kt_kv)\n"
   ]
  },
  {
   "cell_type": "markdown",
   "metadata": {},
   "source": [
    "5.Hãy trình bày dữ liệu lần lượt các biến DH1, DH2, DH3 lớn hơn bằng 5.0 và thuộc khu \n",
    "vực 2NT"
   ]
  },
  {
   "cell_type": "code",
   "execution_count": 14,
   "metadata": {},
   "outputs": [
    {
     "name": "stdout",
     "output_type": "stream",
     "text": [
      "  KT   KV   DT  DH1_count  DH1_max  DH1_mean  DH1_min   DH1_std  DH1_sum  \\\n",
      "0  A  KV1  DT1          1      8.5      8.50      8.5       NaN      8.5   \n",
      "1  A  KV2  DT1          1      7.0      7.00      7.0       NaN      7.0   \n",
      "2  B  KV1  DT2          1      6.5      6.50      6.5       NaN      6.5   \n",
      "3  B  KV2  DT2          1      9.5      9.50      9.5       NaN      9.5   \n",
      "4  C  KV3  DT3          2      8.0      7.75      7.5  0.353553     15.5   \n",
      "\n",
      "   Q1_mean  Q2_mean  Q3_mean  \n",
      "0    8.500     8.50    8.500  \n",
      "1    7.000     7.00    7.000  \n",
      "2    6.500     6.50    6.500  \n",
      "3    9.500     9.50    9.500  \n",
      "4    7.625     7.75    7.875  \n"
     ]
    }
   ],
   "source": [
    "import pandas as pd\n",
    "\n",
    "# Tạo dữ liệu mẫu\n",
    "data = {\n",
    "    \"KT\": [\"A\", \"A\", \"B\", \"B\", \"C\", \"C\"],\n",
    "    \"KV\": [\"KV1\", \"KV2\", \"KV1\", \"KV2\", \"KV3\", \"KV3\"],\n",
    "    \"DT\": [\"DT1\", \"DT1\", \"DT2\", \"DT2\", \"DT3\", \"DT3\"],\n",
    "    \"DH1\": [8.5, 7.0, 6.5, 9.5, 7.5, 8.0],\n",
    "}\n",
    "\n",
    "df = pd.DataFrame(data)\n",
    "\n",
    "# Tạo cột tính toán các phần tư\n",
    "df[\"Q1\"] = df.groupby([\"KT\", \"KV\", \"DT\"])[\"DH1\"].transform(lambda x: x.quantile(0.25))\n",
    "df[\"Q2\"] = df.groupby([\"KT\", \"KV\", \"DT\"])[\"DH1\"].transform(\"median\")\n",
    "df[\"Q3\"] = df.groupby([\"KT\", \"KV\", \"DT\"])[\"DH1\"].transform(lambda x: x.quantile(0.75))\n",
    "\n",
    "# Tạo pivot-table\n",
    "pivot_table = df.pivot_table(\n",
    "    values=[\"DH1\", \"Q1\", \"Q2\", \"Q3\"],\n",
    "    index=[\"KT\", \"KV\", \"DT\"],\n",
    "    aggfunc={\n",
    "        \"DH1\": [\"count\", \"sum\", \"mean\", \"min\", \"max\", \"std\"],\n",
    "        \"Q1\": \"mean\",\n",
    "        \"Q2\": \"mean\",\n",
    "        \"Q3\": \"mean\",\n",
    "    }\n",
    ")\n",
    "\n",
    "# Đổi tên cột cho dễ hiểu\n",
    "pivot_table.columns = ['_'.join(col).strip() for col in pivot_table.columns.values]\n",
    "pivot_table.reset_index(inplace=True)\n",
    "\n",
    "print(pivot_table)\n"
   ]
  }
 ],
 "metadata": {
  "kernelspec": {
   "display_name": "Python 3",
   "language": "python",
   "name": "python3"
  },
  "language_info": {
   "codemirror_mode": {
    "name": "ipython",
    "version": 3
   },
   "file_extension": ".py",
   "mimetype": "text/x-python",
   "name": "python",
   "nbconvert_exporter": "python",
   "pygments_lexer": "ipython3",
   "version": "3.12.2"
  }
 },
 "nbformat": 4,
 "nbformat_minor": 2
}
